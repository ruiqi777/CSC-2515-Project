{
 "cells": [
  {
   "cell_type": "markdown",
   "metadata": {},
   "source": [
    "# Music Classification System"
   ]
  },
  {
   "cell_type": "code",
   "execution_count": 44,
   "metadata": {},
   "outputs": [
    {
     "name": "stdout",
     "output_type": "stream",
     "text": [
      "Requirement already satisfied: inflect in c:\\users\\kevinzhenshuai\\anaconda3\\lib\\site-packages (5.0.2)\n"
     ]
    },
    {
     "name": "stderr",
     "output_type": "stream",
     "text": [
      "WARNING: You are using pip version 20.2.4; however, version 20.3.1 is available.\n",
      "You should consider upgrading via the 'c:\\users\\kevinzhenshuai\\anaconda3\\python.exe -m pip install --upgrade pip' command.\n"
     ]
    },
    {
     "name": "stdout",
     "output_type": "stream",
     "text": [
      "Requirement already satisfied: vaderSentiment in c:\\users\\kevinzhenshuai\\anaconda3\\lib\\site-packages (3.3.2)\n",
      "Requirement already satisfied: requests in c:\\users\\kevinzhenshuai\\anaconda3\\lib\\site-packages (from vaderSentiment) (2.24.0)\n",
      "Requirement already satisfied: certifi>=2017.4.17 in c:\\users\\kevinzhenshuai\\anaconda3\\lib\\site-packages (from requests->vaderSentiment) (2020.6.20)\n",
      "Requirement already satisfied: urllib3!=1.25.0,!=1.25.1,<1.26,>=1.21.1 in c:\\users\\kevinzhenshuai\\anaconda3\\lib\\site-packages (from requests->vaderSentiment) (1.25.9)\n",
      "Requirement already satisfied: idna<3,>=2.5 in c:\\users\\kevinzhenshuai\\anaconda3\\lib\\site-packages (from requests->vaderSentiment) (2.10)\n",
      "Requirement already satisfied: chardet<4,>=3.0.2 in c:\\users\\kevinzhenshuai\\anaconda3\\lib\\site-packages (from requests->vaderSentiment) (3.0.4)\n"
     ]
    },
    {
     "name": "stderr",
     "output_type": "stream",
     "text": [
      "WARNING: You are using pip version 20.2.4; however, version 20.3.1 is available.\n",
      "You should consider upgrading via the 'c:\\users\\kevinzhenshuai\\anaconda3\\python.exe -m pip install --upgrade pip' command.\n"
     ]
    },
    {
     "name": "stdout",
     "output_type": "stream",
     "text": [
      "Requirement already satisfied: textblob in c:\\users\\kevinzhenshuai\\anaconda3\\lib\\site-packages (0.15.3)\n",
      "Requirement already satisfied: nltk>=3.1 in c:\\users\\kevinzhenshuai\\anaconda3\\lib\\site-packages (from textblob) (3.5)\n",
      "Requirement already satisfied: click in c:\\users\\kevinzhenshuai\\anaconda3\\lib\\site-packages (from nltk>=3.1->textblob) (7.1.2)\n",
      "Requirement already satisfied: joblib in c:\\users\\kevinzhenshuai\\anaconda3\\lib\\site-packages (from nltk>=3.1->textblob) (0.16.0)\n",
      "Requirement already satisfied: tqdm in c:\\users\\kevinzhenshuai\\anaconda3\\lib\\site-packages (from nltk>=3.1->textblob) (4.47.0)\n",
      "Requirement already satisfied: regex in c:\\users\\kevinzhenshuai\\anaconda3\\lib\\site-packages (from nltk>=3.1->textblob) (2020.6.8)\n"
     ]
    },
    {
     "name": "stderr",
     "output_type": "stream",
     "text": [
      "WARNING: You are using pip version 20.2.4; however, version 20.3.1 is available.\n",
      "You should consider upgrading via the 'c:\\users\\kevinzhenshuai\\anaconda3\\python.exe -m pip install --upgrade pip' command.\n"
     ]
    },
    {
     "name": "stdout",
     "output_type": "stream",
     "text": [
      "Requirement already satisfied: flair in c:\\users\\kevinzhenshuai\\anaconda3\\lib\\site-packages (0.6.1.post1)\n",
      "Requirement already satisfied: langdetect in c:\\users\\kevinzhenshuai\\anaconda3\\lib\\site-packages (from flair) (1.0.8)\n",
      "Requirement already satisfied: gensim>=3.4.0 in c:\\users\\kevinzhenshuai\\anaconda3\\lib\\site-packages (from flair) (3.8.3)\n",
      "Requirement already satisfied: janome in c:\\users\\kevinzhenshuai\\anaconda3\\lib\\site-packages (from flair) (0.4.1)\n",
      "Requirement already satisfied: bpemb>=0.3.2 in c:\\users\\kevinzhenshuai\\anaconda3\\lib\\site-packages (from flair) (0.3.2)\n",
      "Requirement already satisfied: deprecated>=1.2.4 in c:\\users\\kevinzhenshuai\\anaconda3\\lib\\site-packages (from flair) (1.2.10)\n",
      "Requirement already satisfied: konoha<5.0.0,>=4.0.0 in c:\\users\\kevinzhenshuai\\anaconda3\\lib\\site-packages (from flair) (4.6.2)\n",
      "Requirement already satisfied: tabulate in c:\\users\\kevinzhenshuai\\anaconda3\\lib\\site-packages (from flair) (0.8.7)\n",
      "Requirement already satisfied: tqdm>=4.26.0 in c:\\users\\kevinzhenshuai\\anaconda3\\lib\\site-packages (from flair) (4.47.0)\n",
      "Requirement already satisfied: regex in c:\\users\\kevinzhenshuai\\anaconda3\\lib\\site-packages (from flair) (2020.6.8)\n",
      "Requirement already satisfied: scikit-learn>=0.21.3 in c:\\users\\kevinzhenshuai\\anaconda3\\lib\\site-packages (from flair) (0.23.1)\n",
      "Requirement already satisfied: torch>=1.1.0 in c:\\users\\kevinzhenshuai\\anaconda3\\lib\\site-packages (from flair) (1.7.0)\n",
      "Requirement already satisfied: hyperopt>=0.1.1 in c:\\users\\kevinzhenshuai\\anaconda3\\lib\\site-packages (from flair) (0.2.5)\n",
      "Requirement already satisfied: ftfy in c:\\users\\kevinzhenshuai\\anaconda3\\lib\\site-packages (from flair) (5.8)\n",
      "Requirement already satisfied: lxml in c:\\users\\kevinzhenshuai\\anaconda3\\lib\\site-packages (from flair) (4.5.2)\n",
      "Requirement already satisfied: gdown in c:\\users\\kevinzhenshuai\\anaconda3\\lib\\site-packages (from flair) (3.12.2)\n",
      "Requirement already satisfied: matplotlib>=2.2.3 in c:\\users\\kevinzhenshuai\\anaconda3\\lib\\site-packages (from flair) (3.2.2)\n",
      "Requirement already satisfied: segtok>=1.5.7 in c:\\users\\kevinzhenshuai\\anaconda3\\lib\\site-packages (from flair) (1.5.10)\n",
      "Requirement already satisfied: python-dateutil>=2.6.1 in c:\\users\\kevinzhenshuai\\anaconda3\\lib\\site-packages (from flair) (2.8.1)\n",
      "Requirement already satisfied: sentencepiece!=0.1.92 in c:\\users\\kevinzhenshuai\\anaconda3\\lib\\site-packages (from flair) (0.1.94)\n",
      "Requirement already satisfied: mpld3==0.3 in c:\\users\\kevinzhenshuai\\anaconda3\\lib\\site-packages (from flair) (0.3)\n",
      "Requirement already satisfied: transformers>=3.0.0 in c:\\users\\kevinzhenshuai\\anaconda3\\lib\\site-packages (from flair) (3.5.1)\n",
      "Requirement already satisfied: sqlitedict>=1.6.0 in c:\\users\\kevinzhenshuai\\anaconda3\\lib\\site-packages (from flair) (1.7.0)\n",
      "Requirement already satisfied: six in c:\\users\\kevinzhenshuai\\anaconda3\\lib\\site-packages (from langdetect->flair) (1.15.0)\n",
      "Requirement already satisfied: numpy>=1.11.3 in c:\\users\\kevinzhenshuai\\anaconda3\\lib\\site-packages (from gensim>=3.4.0->flair) (1.18.5)\n",
      "Requirement already satisfied: scipy>=0.18.1 in c:\\users\\kevinzhenshuai\\anaconda3\\lib\\site-packages (from gensim>=3.4.0->flair) (1.5.0)\n",
      "Requirement already satisfied: Cython==0.29.14 in c:\\users\\kevinzhenshuai\\anaconda3\\lib\\site-packages (from gensim>=3.4.0->flair) (0.29.14)\n"
     ]
    },
    {
     "name": "stderr",
     "output_type": "stream",
     "text": [
      "WARNING: You are using pip version 20.2.4; however, version 20.3.1 is available.\n",
      "You should consider upgrading via the 'c:\\users\\kevinzhenshuai\\anaconda3\\python.exe -m pip install --upgrade pip' command.\n"
     ]
    },
    {
     "name": "stdout",
     "output_type": "stream",
     "text": [
      "Requirement already satisfied: smart-open>=1.8.1 in c:\\users\\kevinzhenshuai\\anaconda3\\lib\\site-packages (from gensim>=3.4.0->flair) (3.0.0)\n",
      "Requirement already satisfied: requests in c:\\users\\kevinzhenshuai\\anaconda3\\lib\\site-packages (from bpemb>=0.3.2->flair) (2.24.0)\n",
      "Requirement already satisfied: wrapt<2,>=1.10 in c:\\users\\kevinzhenshuai\\anaconda3\\lib\\site-packages (from deprecated>=1.2.4->flair) (1.11.2)\n",
      "Requirement already satisfied: overrides==3.0.0 in c:\\users\\kevinzhenshuai\\anaconda3\\lib\\site-packages (from konoha<5.0.0,>=4.0.0->flair) (3.0.0)\n",
      "Requirement already satisfied: joblib>=0.11 in c:\\users\\kevinzhenshuai\\anaconda3\\lib\\site-packages (from scikit-learn>=0.21.3->flair) (0.16.0)\n",
      "Requirement already satisfied: threadpoolctl>=2.0.0 in c:\\users\\kevinzhenshuai\\anaconda3\\lib\\site-packages (from scikit-learn>=0.21.3->flair) (2.1.0)\n",
      "Requirement already satisfied: future in c:\\users\\kevinzhenshuai\\anaconda3\\lib\\site-packages (from torch>=1.1.0->flair) (0.18.2)\n",
      "Requirement already satisfied: typing_extensions in c:\\users\\kevinzhenshuai\\anaconda3\\lib\\site-packages (from torch>=1.1.0->flair) (3.7.4.2)\n",
      "Requirement already satisfied: dataclasses in c:\\users\\kevinzhenshuai\\anaconda3\\lib\\site-packages (from torch>=1.1.0->flair) (0.6)\n",
      "Requirement already satisfied: networkx>=2.2 in c:\\users\\kevinzhenshuai\\anaconda3\\lib\\site-packages (from hyperopt>=0.1.1->flair) (2.4)\n",
      "Requirement already satisfied: cloudpickle in c:\\users\\kevinzhenshuai\\anaconda3\\lib\\site-packages (from hyperopt>=0.1.1->flair) (1.5.0)\n",
      "Requirement already satisfied: wcwidth in c:\\users\\kevinzhenshuai\\anaconda3\\lib\\site-packages (from ftfy->flair) (0.2.5)\n",
      "Requirement already satisfied: filelock in c:\\users\\kevinzhenshuai\\anaconda3\\lib\\site-packages (from gdown->flair) (3.0.12)\n",
      "Requirement already satisfied: cycler>=0.10 in c:\\users\\kevinzhenshuai\\anaconda3\\lib\\site-packages (from matplotlib>=2.2.3->flair) (0.10.0)\n",
      "Requirement already satisfied: kiwisolver>=1.0.1 in c:\\users\\kevinzhenshuai\\anaconda3\\lib\\site-packages (from matplotlib>=2.2.3->flair) (1.2.0)\n",
      "Requirement already satisfied: pyparsing!=2.0.4,!=2.1.2,!=2.1.6,>=2.0.1 in c:\\users\\kevinzhenshuai\\anaconda3\\lib\\site-packages (from matplotlib>=2.2.3->flair) (2.4.7)\n",
      "Requirement already satisfied: packaging in c:\\users\\kevinzhenshuai\\anaconda3\\lib\\site-packages (from transformers>=3.0.0->flair) (20.4)\n",
      "Requirement already satisfied: protobuf in c:\\users\\kevinzhenshuai\\anaconda3\\lib\\site-packages (from transformers>=3.0.0->flair) (3.14.0)\n",
      "Requirement already satisfied: sacremoses in c:\\users\\kevinzhenshuai\\anaconda3\\lib\\site-packages (from transformers>=3.0.0->flair) (0.0.43)\n",
      "Requirement already satisfied: tokenizers==0.9.3 in c:\\users\\kevinzhenshuai\\anaconda3\\lib\\site-packages (from transformers>=3.0.0->flair) (0.9.3)\n",
      "Requirement already satisfied: urllib3!=1.25.0,!=1.25.1,<1.26,>=1.21.1 in c:\\users\\kevinzhenshuai\\anaconda3\\lib\\site-packages (from requests->bpemb>=0.3.2->flair) (1.25.9)\n",
      "Requirement already satisfied: chardet<4,>=3.0.2 in c:\\users\\kevinzhenshuai\\anaconda3\\lib\\site-packages (from requests->bpemb>=0.3.2->flair) (3.0.4)\n",
      "Requirement already satisfied: certifi>=2017.4.17 in c:\\users\\kevinzhenshuai\\anaconda3\\lib\\site-packages (from requests->bpemb>=0.3.2->flair) (2020.6.20)\n",
      "Requirement already satisfied: idna<3,>=2.5 in c:\\users\\kevinzhenshuai\\anaconda3\\lib\\site-packages (from requests->bpemb>=0.3.2->flair) (2.10)\n",
      "Requirement already satisfied: decorator>=4.3.0 in c:\\users\\kevinzhenshuai\\anaconda3\\lib\\site-packages (from networkx>=2.2->hyperopt>=0.1.1->flair) (4.4.2)\n",
      "Requirement already satisfied: click in c:\\users\\kevinzhenshuai\\anaconda3\\lib\\site-packages (from sacremoses->transformers>=3.0.0->flair) (7.1.2)\n",
      "Requirement already up-to-date: tensorflow in c:\\users\\kevinzhenshuai\\anaconda3\\lib\\site-packages (2.3.1)\n",
      "Requirement already satisfied, skipping upgrade: gast==0.3.3 in c:\\users\\kevinzhenshuai\\anaconda3\\lib\\site-packages (from tensorflow) (0.3.3)\n",
      "Requirement already satisfied, skipping upgrade: opt-einsum>=2.3.2 in c:\\users\\kevinzhenshuai\\anaconda3\\lib\\site-packages (from tensorflow) (3.3.0)\n",
      "Requirement already satisfied, skipping upgrade: wheel>=0.26 in c:\\users\\kevinzhenshuai\\anaconda3\\lib\\site-packages (from tensorflow) (0.34.2)\n",
      "Requirement already satisfied, skipping upgrade: six>=1.12.0 in c:\\users\\kevinzhenshuai\\anaconda3\\lib\\site-packages (from tensorflow) (1.15.0)\n",
      "Requirement already satisfied, skipping upgrade: tensorboard<3,>=2.3.0 in c:\\users\\kevinzhenshuai\\anaconda3\\lib\\site-packages (from tensorflow) (2.4.0)\n",
      "Requirement already satisfied, skipping upgrade: protobuf>=3.9.2 in c:\\users\\kevinzhenshuai\\anaconda3\\lib\\site-packages (from tensorflow) (3.14.0)\n",
      "Requirement already satisfied, skipping upgrade: termcolor>=1.1.0 in c:\\users\\kevinzhenshuai\\anaconda3\\lib\\site-packages (from tensorflow) (1.1.0)\n",
      "Requirement already satisfied, skipping upgrade: absl-py>=0.7.0 in c:\\users\\kevinzhenshuai\\anaconda3\\lib\\site-packages (from tensorflow) (0.11.0)\n",
      "Requirement already satisfied, skipping upgrade: numpy<1.19.0,>=1.16.0 in c:\\users\\kevinzhenshuai\\anaconda3\\lib\\site-packages (from tensorflow) (1.18.5)\n",
      "Requirement already satisfied, skipping upgrade: keras-preprocessing<1.2,>=1.1.1 in c:\\users\\kevinzhenshuai\\anaconda3\\lib\\site-packages (from tensorflow) (1.1.2)\n",
      "Requirement already satisfied, skipping upgrade: tensorflow-estimator<2.4.0,>=2.3.0 in c:\\users\\kevinzhenshuai\\anaconda3\\lib\\site-packages (from tensorflow) (2.3.0)\n",
      "Requirement already satisfied, skipping upgrade: grpcio>=1.8.6 in c:\\users\\kevinzhenshuai\\anaconda3\\lib\\site-packages (from tensorflow) (1.33.2)\n",
      "Requirement already satisfied, skipping upgrade: google-pasta>=0.1.8 in c:\\users\\kevinzhenshuai\\anaconda3\\lib\\site-packages (from tensorflow) (0.2.0)\n",
      "Requirement already satisfied, skipping upgrade: h5py<2.11.0,>=2.10.0 in c:\\users\\kevinzhenshuai\\anaconda3\\lib\\site-packages (from tensorflow) (2.10.0)\n",
      "Requirement already satisfied, skipping upgrade: wrapt>=1.11.1 in c:\\users\\kevinzhenshuai\\anaconda3\\lib\\site-packages (from tensorflow) (1.11.2)\n",
      "Requirement already satisfied, skipping upgrade: astunparse==1.6.3 in c:\\users\\kevinzhenshuai\\anaconda3\\lib\\site-packages (from tensorflow) (1.6.3)\n",
      "Requirement already satisfied, skipping upgrade: requests<3,>=2.21.0 in c:\\users\\kevinzhenshuai\\anaconda3\\lib\\site-packages (from tensorboard<3,>=2.3.0->tensorflow) (2.24.0)\n",
      "Requirement already satisfied, skipping upgrade: tensorboard-plugin-wit>=1.6.0 in c:\\users\\kevinzhenshuai\\anaconda3\\lib\\site-packages (from tensorboard<3,>=2.3.0->tensorflow) (1.7.0)\n",
      "Requirement already satisfied, skipping upgrade: google-auth-oauthlib<0.5,>=0.4.1 in c:\\users\\kevinzhenshuai\\anaconda3\\lib\\site-packages (from tensorboard<3,>=2.3.0->tensorflow) (0.4.2)\n",
      "Requirement already satisfied, skipping upgrade: werkzeug>=0.11.15 in c:\\users\\kevinzhenshuai\\anaconda3\\lib\\site-packages (from tensorboard<3,>=2.3.0->tensorflow) (1.0.1)\n",
      "Requirement already satisfied, skipping upgrade: setuptools>=41.0.0 in c:\\users\\kevinzhenshuai\\anaconda3\\lib\\site-packages (from tensorboard<3,>=2.3.0->tensorflow) (49.2.0.post20200714)\n",
      "Requirement already satisfied, skipping upgrade: google-auth<2,>=1.6.3 in c:\\users\\kevinzhenshuai\\anaconda3\\lib\\site-packages (from tensorboard<3,>=2.3.0->tensorflow) (1.23.0)\n",
      "Requirement already satisfied, skipping upgrade: markdown>=2.6.8 in c:\\users\\kevinzhenshuai\\anaconda3\\lib\\site-packages (from tensorboard<3,>=2.3.0->tensorflow) (3.3.3)"
     ]
    },
    {
     "name": "stderr",
     "output_type": "stream",
     "text": [
      "WARNING: You are using pip version 20.2.4; however, version 20.3.1 is available.\n",
      "You should consider upgrading via the 'c:\\users\\kevinzhenshuai\\anaconda3\\python.exe -m pip install --upgrade pip' command.\n"
     ]
    },
    {
     "name": "stdout",
     "output_type": "stream",
     "text": [
      "\n",
      "Requirement already satisfied, skipping upgrade: chardet<4,>=3.0.2 in c:\\users\\kevinzhenshuai\\anaconda3\\lib\\site-packages (from requests<3,>=2.21.0->tensorboard<3,>=2.3.0->tensorflow) (3.0.4)\n",
      "Requirement already satisfied, skipping upgrade: certifi>=2017.4.17 in c:\\users\\kevinzhenshuai\\anaconda3\\lib\\site-packages (from requests<3,>=2.21.0->tensorboard<3,>=2.3.0->tensorflow) (2020.6.20)\n",
      "Requirement already satisfied, skipping upgrade: urllib3!=1.25.0,!=1.25.1,<1.26,>=1.21.1 in c:\\users\\kevinzhenshuai\\anaconda3\\lib\\site-packages (from requests<3,>=2.21.0->tensorboard<3,>=2.3.0->tensorflow) (1.25.9)\n",
      "Requirement already satisfied, skipping upgrade: idna<3,>=2.5 in c:\\users\\kevinzhenshuai\\anaconda3\\lib\\site-packages (from requests<3,>=2.21.0->tensorboard<3,>=2.3.0->tensorflow) (2.10)\n",
      "Requirement already satisfied, skipping upgrade: requests-oauthlib>=0.7.0 in c:\\users\\kevinzhenshuai\\anaconda3\\lib\\site-packages (from google-auth-oauthlib<0.5,>=0.4.1->tensorboard<3,>=2.3.0->tensorflow) (1.3.0)\n",
      "Requirement already satisfied, skipping upgrade: pyasn1-modules>=0.2.1 in c:\\users\\kevinzhenshuai\\anaconda3\\lib\\site-packages (from google-auth<2,>=1.6.3->tensorboard<3,>=2.3.0->tensorflow) (0.2.8)\n",
      "Requirement already satisfied, skipping upgrade: rsa<5,>=3.1.4; python_version >= \"3.5\" in c:\\users\\kevinzhenshuai\\anaconda3\\lib\\site-packages (from google-auth<2,>=1.6.3->tensorboard<3,>=2.3.0->tensorflow) (4.6)\n",
      "Requirement already satisfied, skipping upgrade: cachetools<5.0,>=2.0.0 in c:\\users\\kevinzhenshuai\\anaconda3\\lib\\site-packages (from google-auth<2,>=1.6.3->tensorboard<3,>=2.3.0->tensorflow) (4.1.1)\n",
      "Requirement already satisfied, skipping upgrade: oauthlib>=3.0.0 in c:\\users\\kevinzhenshuai\\anaconda3\\lib\\site-packages (from requests-oauthlib>=0.7.0->google-auth-oauthlib<0.5,>=0.4.1->tensorboard<3,>=2.3.0->tensorflow) (3.1.0)\n",
      "Requirement already satisfied, skipping upgrade: pyasn1<0.5.0,>=0.4.6 in c:\\users\\kevinzhenshuai\\anaconda3\\lib\\site-packages (from pyasn1-modules>=0.2.1->google-auth<2,>=1.6.3->tensorboard<3,>=2.3.0->tensorflow) (0.4.8)\n",
      "Requirement already up-to-date: keras in c:\\users\\kevinzhenshuai\\anaconda3\\lib\\site-packages (2.4.3)\n",
      "Requirement already satisfied, skipping upgrade: scipy>=0.14 in c:\\users\\kevinzhenshuai\\anaconda3\\lib\\site-packages (from keras) (1.5.0)\n",
      "Requirement already satisfied, skipping upgrade: h5py in c:\\users\\kevinzhenshuai\\anaconda3\\lib\\site-packages (from keras) (2.10.0)\n",
      "Requirement already satisfied, skipping upgrade: pyyaml in c:\\users\\kevinzhenshuai\\anaconda3\\lib\\site-packages (from keras) (5.3.1)\n",
      "Requirement already satisfied, skipping upgrade: numpy>=1.9.1 in c:\\users\\kevinzhenshuai\\anaconda3\\lib\\site-packages (from keras) (1.18.5)\n",
      "Requirement already satisfied, skipping upgrade: six in c:\\users\\kevinzhenshuai\\anaconda3\\lib\\site-packages (from h5py->keras) (1.15.0)\n"
     ]
    },
    {
     "name": "stderr",
     "output_type": "stream",
     "text": [
      "WARNING: You are using pip version 20.2.4; however, version 20.3.1 is available.\n",
      "You should consider upgrading via the 'c:\\users\\kevinzhenshuai\\anaconda3\\python.exe -m pip install --upgrade pip' command.\n"
     ]
    },
    {
     "name": "stdout",
     "output_type": "stream",
     "text": [
      "Collecting imblearn\n",
      "  Downloading imblearn-0.0-py2.py3-none-any.whl (1.9 kB)\n",
      "Collecting imbalanced-learn\n",
      "  Downloading imbalanced_learn-0.7.0-py3-none-any.whl (167 kB)\n",
      "Requirement already satisfied: scikit-learn>=0.23 in c:\\users\\kevinzhenshuai\\anaconda3\\lib\\site-packages (from imbalanced-learn->imblearn) (0.23.1)\n",
      "Requirement already satisfied: scipy>=0.19.1 in c:\\users\\kevinzhenshuai\\anaconda3\\lib\\site-packages (from imbalanced-learn->imblearn) (1.5.0)\n",
      "Requirement already satisfied: numpy>=1.13.3 in c:\\users\\kevinzhenshuai\\anaconda3\\lib\\site-packages (from imbalanced-learn->imblearn) (1.18.5)\n",
      "Requirement already satisfied: joblib>=0.11 in c:\\users\\kevinzhenshuai\\anaconda3\\lib\\site-packages (from imbalanced-learn->imblearn) (0.16.0)\n",
      "Requirement already satisfied: threadpoolctl>=2.0.0 in c:\\users\\kevinzhenshuai\\anaconda3\\lib\\site-packages (from scikit-learn>=0.23->imbalanced-learn->imblearn) (2.1.0)\n",
      "Installing collected packages: imbalanced-learn, imblearn\n",
      "Successfully installed imbalanced-learn-0.7.0 imblearn-0.0\n"
     ]
    },
    {
     "name": "stderr",
     "output_type": "stream",
     "text": [
      "WARNING: You are using pip version 20.2.4; however, version 20.3.1 is available.\n",
      "You should consider upgrading via the 'c:\\users\\kevinzhenshuai\\anaconda3\\python.exe -m pip install --upgrade pip' command.\n"
     ]
    }
   ],
   "source": [
    "# install packages\n",
    "!pip install inflect\n",
    "!pip install vaderSentiment\n",
    "!pip install textblob\n",
    "!pip install flair\n",
    "!pip install --upgrade tensorflow\n",
    "!pip install --upgrade keras\n",
    "!pip install imblearn"
   ]
  },
  {
   "cell_type": "markdown",
   "metadata": {},
   "source": [
    "## Import necessary libraries"
   ]
  },
  {
   "cell_type": "code",
   "execution_count": 15,
   "metadata": {},
   "outputs": [],
   "source": [
    "import json\n",
    "import pandas as pd\n",
    "import string\n",
    "import re\n",
    "import time\n",
    "from datetime import datetime, timezone\n",
    "import numpy as np\n",
    "import matplotlib.pyplot as plt\n",
    "import seaborn as sns\n",
    "\n",
    "import nltk\n",
    "import html\n",
    "import inflect\n",
    "from bs4 import BeautifulSoup\n",
    "from nltk import word_tokenize, sent_tokenize\n",
    "from nltk.corpus import stopwords\n",
    "from nltk.stem import LancasterStemmer, WordNetLemmatizer\n",
    "from sklearn.preprocessing import StandardScaler\n",
    "from sklearn.feature_extraction.text import TfidfVectorizer,CountVectorizer\n",
    "from flair.embeddings import FlairEmbeddings, BertEmbeddings, WordEmbeddings, DocumentRNNEmbeddings\n",
    "\n",
    "import tensorflow as tf\n",
    "from tensorflow.keras.layers import Dropout\n",
    "from tensorflow.keras.layers import SpatialDropout1D, LSTM\n",
    "from tensorflow.keras import regularizers\n",
    "from keras.preprocessing.text import Tokenizer\n",
    "from keras.preprocessing.sequence import pad_sequences\n",
    "from keras.models import Sequential\n",
    "from keras.layers import Dense\n",
    "from keras.layers import Flatten\n",
    "from keras.layers import Embedding\n",
    "from keras.layers import Reshape\n",
    "from keras.layers.convolutional import Conv1D, Conv2D\n",
    "from keras.layers.convolutional import MaxPooling1D, MaxPooling2D\n",
    "\n",
    "from sklearn.model_selection import GridSearchCV, KFold\n",
    "from sklearn.preprocessing import Normalizer\n",
    "from sklearn.ensemble import RandomForestRegressor\n",
    "from sklearn.metrics import mean_squared_error\n",
    "from sklearn.metrics import accuracy_score\n",
    "from sklearn.model_selection import cross_val_score\n",
    "from sklearn.model_selection import KFold\n",
    "from sklearn.preprocessing import LabelEncoder\n",
    "from sklearn.model_selection import train_test_split\n",
    "from scipy.sparse import hstack, csr_matrix, coo_matrix\n",
    "\n",
    "from textblob import TextBlob\n",
    "\n",
    "from keras.layers import Input, Embedding, Dot, Reshape, Dense,concatenate, Bidirectional,LSTM\n",
    "from keras.models import Model\n",
    "from keras.wrappers.scikit_learn import KerasClassifier\n",
    "from keras.utils import np_utils\n",
    "from keras.preprocessing.sequence import pad_sequences\n",
    "from keras.preprocessing.text import Tokenizer\n",
    "from keras.callbacks import ModelCheckpoint"
   ]
  },
  {
   "cell_type": "markdown",
   "metadata": {},
   "source": [
    "## Import data files"
   ]
  },
  {
   "cell_type": "markdown",
   "metadata": {},
   "source": [
    "Training Data"
   ]
  },
  {
   "cell_type": "code",
   "execution_count": 16,
   "metadata": {},
   "outputs": [
    {
     "name": "stdout",
     "output_type": "stream",
     "text": [
      "Started Reading JSON file which contains multiple JSON document\n",
      "<class 'pandas.core.frame.DataFrame'>\n",
      "RangeIndex: 200000 entries, 0 to 199999\n",
      "Data columns (total 11 columns):\n",
      " #   Column          Non-Null Count   Dtype  \n",
      "---  ------          --------------   -----  \n",
      " 0   overall         200000 non-null  float64\n",
      " 1   reviewTime      200000 non-null  object \n",
      " 2   reviewerID      200000 non-null  object \n",
      " 3   reviewText      199964 non-null  object \n",
      " 4   summary         199965 non-null  object \n",
      " 5   unixReviewTime  200000 non-null  int64  \n",
      " 6   category        200000 non-null  object \n",
      " 7   price           200000 non-null  object \n",
      " 8   itemID          200000 non-null  object \n",
      " 9   reviewHash      200000 non-null  object \n",
      " 10  image           463 non-null     object \n",
      "dtypes: float64(1), int64(1), object(9)\n",
      "memory usage: 16.8+ MB\n"
     ]
    },
    {
     "data": {
      "text/html": [
       "<div>\n",
       "<style scoped>\n",
       "    .dataframe tbody tr th:only-of-type {\n",
       "        vertical-align: middle;\n",
       "    }\n",
       "\n",
       "    .dataframe tbody tr th {\n",
       "        vertical-align: top;\n",
       "    }\n",
       "\n",
       "    .dataframe thead th {\n",
       "        text-align: right;\n",
       "    }\n",
       "</style>\n",
       "<table border=\"1\" class=\"dataframe\">\n",
       "  <thead>\n",
       "    <tr style=\"text-align: right;\">\n",
       "      <th></th>\n",
       "      <th>overall</th>\n",
       "      <th>reviewTime</th>\n",
       "      <th>reviewerID</th>\n",
       "      <th>reviewText</th>\n",
       "      <th>summary</th>\n",
       "      <th>unixReviewTime</th>\n",
       "      <th>category</th>\n",
       "      <th>price</th>\n",
       "      <th>itemID</th>\n",
       "      <th>reviewHash</th>\n",
       "      <th>image</th>\n",
       "    </tr>\n",
       "  </thead>\n",
       "  <tbody>\n",
       "    <tr>\n",
       "      <th>0</th>\n",
       "      <td>4.0</td>\n",
       "      <td>08 24, 2010</td>\n",
       "      <td>u04428712</td>\n",
       "      <td>So is Katy Perry's new album \"Teenage Dream\" c...</td>\n",
       "      <td>Amazing that I Actually Bought This...More Ama...</td>\n",
       "      <td>1282608000</td>\n",
       "      <td>Pop</td>\n",
       "      <td>$35.93</td>\n",
       "      <td>p70761125</td>\n",
       "      <td>85559980</td>\n",
       "      <td>NaN</td>\n",
       "    </tr>\n",
       "    <tr>\n",
       "      <th>1</th>\n",
       "      <td>5.0</td>\n",
       "      <td>10 31, 2009</td>\n",
       "      <td>u06946603</td>\n",
       "      <td>I got this CD almost 10 years ago, and given t...</td>\n",
       "      <td>Excellent album</td>\n",
       "      <td>1256947200</td>\n",
       "      <td>Alternative Rock</td>\n",
       "      <td>$11.28</td>\n",
       "      <td>p85427891</td>\n",
       "      <td>41699565</td>\n",
       "      <td>NaN</td>\n",
       "    </tr>\n",
       "    <tr>\n",
       "      <th>2</th>\n",
       "      <td>4.0</td>\n",
       "      <td>10 13, 2015</td>\n",
       "      <td>u92735614</td>\n",
       "      <td>I REALLY enjoy this pairing of Anderson and Po...</td>\n",
       "      <td>Love the Music, Hate the Light Show</td>\n",
       "      <td>1444694400</td>\n",
       "      <td>Pop</td>\n",
       "      <td>$89.86</td>\n",
       "      <td>p82172532</td>\n",
       "      <td>24751194</td>\n",
       "      <td>NaN</td>\n",
       "    </tr>\n",
       "    <tr>\n",
       "      <th>3</th>\n",
       "      <td>5.0</td>\n",
       "      <td>06 28, 2017</td>\n",
       "      <td>u35112935</td>\n",
       "      <td>Finally got it . It was everything thought it ...</td>\n",
       "      <td>Great</td>\n",
       "      <td>1498608000</td>\n",
       "      <td>Pop</td>\n",
       "      <td>$11.89</td>\n",
       "      <td>p15255251</td>\n",
       "      <td>22820631</td>\n",
       "      <td>NaN</td>\n",
       "    </tr>\n",
       "    <tr>\n",
       "      <th>4</th>\n",
       "      <td>4.0</td>\n",
       "      <td>10 12, 2015</td>\n",
       "      <td>u07141505</td>\n",
       "      <td>Look at all star cast.  Outstanding record, pl...</td>\n",
       "      <td>Love these guys.</td>\n",
       "      <td>1444608000</td>\n",
       "      <td>Jazz</td>\n",
       "      <td>$15.24</td>\n",
       "      <td>p82618188</td>\n",
       "      <td>53377470</td>\n",
       "      <td>NaN</td>\n",
       "    </tr>\n",
       "  </tbody>\n",
       "</table>\n",
       "</div>"
      ],
      "text/plain": [
       "   overall   reviewTime reviewerID  \\\n",
       "0      4.0  08 24, 2010  u04428712   \n",
       "1      5.0  10 31, 2009  u06946603   \n",
       "2      4.0  10 13, 2015  u92735614   \n",
       "3      5.0  06 28, 2017  u35112935   \n",
       "4      4.0  10 12, 2015  u07141505   \n",
       "\n",
       "                                          reviewText  \\\n",
       "0  So is Katy Perry's new album \"Teenage Dream\" c...   \n",
       "1  I got this CD almost 10 years ago, and given t...   \n",
       "2  I REALLY enjoy this pairing of Anderson and Po...   \n",
       "3  Finally got it . It was everything thought it ...   \n",
       "4  Look at all star cast.  Outstanding record, pl...   \n",
       "\n",
       "                                             summary  unixReviewTime  \\\n",
       "0  Amazing that I Actually Bought This...More Ama...      1282608000   \n",
       "1                                    Excellent album      1256947200   \n",
       "2                Love the Music, Hate the Light Show      1444694400   \n",
       "3                                              Great      1498608000   \n",
       "4                                   Love these guys.      1444608000   \n",
       "\n",
       "           category   price     itemID reviewHash image  \n",
       "0               Pop  $35.93  p70761125   85559980   NaN  \n",
       "1  Alternative Rock  $11.28  p85427891   41699565   NaN  \n",
       "2               Pop  $89.86  p82172532   24751194   NaN  \n",
       "3               Pop  $11.89  p15255251   22820631   NaN  \n",
       "4              Jazz  $15.24  p82618188   53377470   NaN  "
      ]
     },
     "execution_count": 16,
     "metadata": {},
     "output_type": "execute_result"
    }
   ],
   "source": [
    "trainList = []\n",
    "print(\"Started Reading JSON file which contains multiple JSON document\")\n",
    "with open(\"train.json\", \"r\") as f:\n",
    "    for jsonObj in f:\n",
    "        trainDict = json.loads(jsonObj)\n",
    "        trainList.append(trainDict)\n",
    "        \n",
    "trainDF = pd.DataFrame(data = trainList)\n",
    "trainDF.info()\n",
    "trainDF.head()"
   ]
  },
  {
   "cell_type": "markdown",
   "metadata": {},
   "source": [
    "Test Data"
   ]
  },
  {
   "cell_type": "markdown",
   "metadata": {},
   "source": [
    "## Data Cleaning and Preparation"
   ]
  },
  {
   "cell_type": "markdown",
   "metadata": {},
   "source": [
    "Denoise Text"
   ]
  },
  {
   "cell_type": "code",
   "execution_count": 17,
   "metadata": {},
   "outputs": [],
   "source": [
    "def html_escaping(text):\n",
    "    '''html escaping: Html character codes (i.e., &...;) are replaced with an ASCII equivalent'''\n",
    "    return html.unescape(text)\n",
    "\n",
    "def to_lower(text):\n",
    "    '''lower case all words in text'''\n",
    "    return text.lower()\n",
    "\n",
    "def strip_html(text):\n",
    "    soup = BeautifulSoup(text, \"html.parser\")\n",
    "    return soup.get_text()\n",
    "\n",
    "def remove_between_square_brackets(text):\n",
    "    return re.sub('\\[[^]]*\\]', '', text)\n",
    "\n",
    "def remove_url(text):\n",
    "    '''remove urls'''\n",
    "    return re.sub(r\"http\\S+\", ' ', text)\n",
    "\n",
    "def remove_punctuation(text):\n",
    "    '''Remove punctuation from text'''\n",
    "    for char in string.punctuation:\n",
    "        text = text.replace(char,' ')\n",
    "    return text\n",
    "        \n",
    "def denoise_text(text):\n",
    "    text = str(text) # make sure all inputs are type string\n",
    "    text = to_lower(text)\n",
    "    text = strip_html(text)\n",
    "    text = html_escaping(text)\n",
    "    text = remove_between_square_brackets(text)\n",
    "    text = remove_punctuation(text)\n",
    "    return text"
   ]
  },
  {
   "cell_type": "markdown",
   "metadata": {},
   "source": [
    "Tokenize and normalize text"
   ]
  },
  {
   "cell_type": "code",
   "execution_count": 18,
   "metadata": {},
   "outputs": [],
   "source": [
    "def word_extraction(text):    \n",
    "    '''removing stopwords from the sentence and tokenize the sentence'''\n",
    "    stopWords = stopwords.words('english')\n",
    "    # append words with puncutations stripped\n",
    "    table = str.maketrans('', '', string.punctuation)\n",
    "    stripped = [w.translate(table) for w in stopWords]\n",
    "    stopWords.extend(stripped)\n",
    "    # remove duplicates for runtime\n",
    "    stopWords= list(dict.fromkeys(stopWords))\n",
    "    \n",
    "    ignore = stopWords   \n",
    "    words = re.sub(\"[^\\w]\", \" \",  text).split()    \n",
    "    cleaned_words = [w for w in words if w not in ignore]    \n",
    "    return cleaned_words\n",
    "\n",
    "def lemmatize_verbs(words):\n",
    "    \"\"\"Lemmatize verbs in list of tokenized words\"\"\"\n",
    "    lemmatizer = WordNetLemmatizer()\n",
    "    lemmas = []\n",
    "    for word in words:\n",
    "        lemma = lemmatizer.lemmatize(word, pos='v')\n",
    "        lemmas.append(lemma)\n",
    "    return lemmas\n",
    "\n",
    "def stem_words(words):\n",
    "    \"\"\"Stem words in list of tokenized words\"\"\"\n",
    "    stemmer = LancasterStemmer()\n",
    "    stems = []\n",
    "    for word in words:\n",
    "        stem = stemmer.stem(word)\n",
    "        stems.append(stem)\n",
    "    return stems\n",
    "\n",
    "def detokenize_text(words):\n",
    "    '''detokenize words into a text string'''\n",
    "    return ' '.join(words)\n",
    "\n",
    "def normalize_text(text):\n",
    "    words = word_extraction(text)\n",
    "    #words = lemmatize_verbs(words)\n",
    "    words = stem_words(words)\n",
    "    text = detokenize_text(words)\n",
    "    return text"
   ]
  },
  {
   "cell_type": "markdown",
   "metadata": {},
   "source": [
    "### Categorical Data"
   ]
  },
  {
   "cell_type": "markdown",
   "metadata": {},
   "source": [
    "#### Reviewer ID"
   ]
  },
  {
   "cell_type": "code",
   "execution_count": 19,
   "metadata": {},
   "outputs": [],
   "source": [
    "# encode class values as integers\n",
    "encoder = LabelEncoder()\n",
    "encoder.fit(trainDF.reviewerID)\n",
    "encoded_reviewerID = encoder.transform(trainDF.reviewerID)\n",
    "trainDF['userID'] = encoded_reviewerID"
   ]
  },
  {
   "cell_type": "markdown",
   "metadata": {},
   "source": [
    "#### unixReviewTime"
   ]
  },
  {
   "cell_type": "code",
   "execution_count": 20,
   "metadata": {},
   "outputs": [],
   "source": [
    "def get_weekday(unixTime):\n",
    "    '''Extact Weekday as locale’s abbreviated name from unixReviewTime as the feature'''\n",
    "    return datetime.fromtimestamp(unixTime, timezone.utc).strftime(\"%A\")\n",
    "\n",
    "def get_year(unixTime):\n",
    "    return int(datetime.fromtimestamp(unixTime,timezone.utc).strftime('%Y'))"
   ]
  },
  {
   "cell_type": "code",
   "execution_count": 21,
   "metadata": {},
   "outputs": [],
   "source": [
    "#TRAIN -------------------------------------------------------\n",
    "trainDF['weekday'] = trainDF['unixReviewTime'].apply(lambda x: get_weekday(x))\n",
    "trainDF['year'] = trainDF['unixReviewTime'].apply(lambda x: get_year(x))"
   ]
  },
  {
   "cell_type": "code",
   "execution_count": 22,
   "metadata": {},
   "outputs": [
    {
     "data": {
      "text/plain": [
       "Tuesday      32180\n",
       "Wednesday    29868\n",
       "Monday       29066\n",
       "Thursday     28796\n",
       "Friday       28243\n",
       "Saturday     26427\n",
       "Sunday       25420\n",
       "Name: weekday, dtype: int64"
      ]
     },
     "execution_count": 22,
     "metadata": {},
     "output_type": "execute_result"
    }
   ],
   "source": [
    "trainDF['weekday'].value_counts()"
   ]
  },
  {
   "cell_type": "markdown",
   "metadata": {},
   "source": [
    "#### price"
   ]
  },
  {
   "cell_type": "markdown",
   "metadata": {},
   "source": [
    "training data"
   ]
  },
  {
   "cell_type": "code",
   "execution_count": 23,
   "metadata": {},
   "outputs": [],
   "source": [
    "trainDF['price'] = trainDF['price'].str.replace('$', '')\n",
    "trainDF['price'] = trainDF['price'].apply(lambda x : pd.to_numeric(x,errors = 'coerce'))"
   ]
  },
  {
   "cell_type": "code",
   "execution_count": 24,
   "metadata": {
    "id": "5ZZzLvgMzojy",
    "outputId": "544c33c6-9873-4f42-877b-7d9222aadbb3"
   },
   "outputs": [
    {
     "name": "stdout",
     "output_type": "stream",
     "text": [
      "                     Alldata  NaN Price     ratio\n",
      "Alternative Rock    0.283790   0.357012  1.258015\n",
      "Classical           0.094275   0.082754  0.877789\n",
      "Dance & Electronic  0.062630   0.050165  0.800970\n",
      "Jazz                0.098930   0.072867  0.736552\n",
      "Pop                 0.460375   0.437202  0.949666\n"
     ]
    }
   ],
   "source": [
    "# There are several methods to determine how to handle NaN values \n",
    "#- including dropping them, filling with mode or mean, or replacing with an \"Other\" value\n",
    "# start with data exploration - can check if there a pattern in where the NaN values appear or if the rows with NaN are randomly distributed\n",
    "\n",
    "# For Example - is the a pattern in job categories where NaN contract type appears or is it similar to the full data set?\n",
    "\n",
    "a = trainDF['category'].value_counts(normalize=True)\n",
    "b = trainDF[trainDF['price'].isnull()]['category'].value_counts(normalize=True)\n",
    "print (pd.DataFrame({'Alldata': a, 'NaN Price':b,'ratio':b/a}))"
   ]
  },
  {
   "cell_type": "code",
   "execution_count": 25,
   "metadata": {
    "id": "hzYYHjEzzoj0"
   },
   "outputs": [],
   "source": [
    "# fill null price with mode\n",
    "trainDF['price'].fillna(trainDF['price'].mode()[0],inplace=True)"
   ]
  },
  {
   "cell_type": "markdown",
   "metadata": {},
   "source": [
    "#### Target variable: category "
   ]
  },
  {
   "cell_type": "code",
   "execution_count": 26,
   "metadata": {},
   "outputs": [
    {
     "data": {
      "text/plain": [
       "Pop                   92075\n",
       "Alternative Rock      56758\n",
       "Jazz                  19786\n",
       "Classical             18855\n",
       "Dance & Electronic    12526\n",
       "Name: category, dtype: int64"
      ]
     },
     "execution_count": 26,
     "metadata": {},
     "output_type": "execute_result"
    }
   ],
   "source": [
    "trainDF.category.value_counts()"
   ]
  },
  {
   "cell_type": "code",
   "execution_count": 27,
   "metadata": {},
   "outputs": [
    {
     "data": {
      "text/plain": [
       "category\n",
       "Alternative Rock      12.235644\n",
       "Classical             18.253591\n",
       "Dance & Electronic    12.780753\n",
       "Jazz                  14.267939\n",
       "Pop                   13.650443\n",
       "Name: price, dtype: float64"
      ]
     },
     "execution_count": 27,
     "metadata": {},
     "output_type": "execute_result"
    }
   ],
   "source": [
    "trainDF.groupby('category')['price'].mean()"
   ]
  },
  {
   "cell_type": "code",
   "execution_count": 29,
   "metadata": {},
   "outputs": [],
   "source": [
    "train_target = pd.get_dummies(data=trainDF['category'], columns=['category'])"
   ]
  },
  {
   "cell_type": "markdown",
   "metadata": {},
   "source": [
    "### NLP on text data"
   ]
  },
  {
   "cell_type": "markdown",
   "metadata": {},
   "source": [
    "#### reviewText"
   ]
  },
  {
   "cell_type": "code",
   "execution_count": 30,
   "metadata": {},
   "outputs": [
    {
     "name": "stderr",
     "output_type": "stream",
     "text": [
      "C:\\Users\\kevinzhenshuai\\anaconda3\\lib\\site-packages\\bs4\\__init__.py:414: MarkupResemblesLocatorWarning: \"http://www.amazon.com/gp/product/b003hjwjy6?redirect=true&ref_=cm_cr_ryp_prd_ttl_sol_2\" looks like a URL. Beautiful Soup is not an HTTP client. You should probably use an HTTP client like requests to get the document behind the URL, and feed that document to Beautiful Soup.\n",
      "  warnings.warn(\n"
     ]
    },
    {
     "name": "stdout",
     "output_type": "stream",
     "text": [
      "Wall time: 6min 11s\n"
     ]
    }
   ],
   "source": [
    "%%time\n",
    "\n",
    "#TRAIN -------------------------------------------------------\n",
    "trainDF['reviewText'] = trainDF['reviewText'].apply(lambda x: denoise_text(x)) \n",
    "trainDF['reviewText'] = trainDF['reviewText'].apply(lambda x: normalize_text(x)) "
   ]
  },
  {
   "cell_type": "markdown",
   "metadata": {},
   "source": [
    "#### Summary"
   ]
  },
  {
   "cell_type": "code",
   "execution_count": 31,
   "metadata": {},
   "outputs": [
    {
     "name": "stderr",
     "output_type": "stream",
     "text": [
      "C:\\Users\\kevinzhenshuai\\anaconda3\\lib\\site-packages\\bs4\\__init__.py:329: MarkupResemblesLocatorWarning: \"...\" looks like a filename, not markup. You should probably open this file and pass the filehandle into Beautiful Soup.\n",
      "  warnings.warn(\n",
      "C:\\Users\\kevinzhenshuai\\anaconda3\\lib\\site-packages\\bs4\\__init__.py:329: MarkupResemblesLocatorWarning: \".\" looks like a filename, not markup. You should probably open this file and pass the filehandle into Beautiful Soup.\n",
      "  warnings.warn(\n",
      "C:\\Users\\kevinzhenshuai\\anaconda3\\lib\\site-packages\\bs4\\__init__.py:329: MarkupResemblesLocatorWarning: \".......\" looks like a filename, not markup. You should probably open this file and pass the filehandle into Beautiful Soup.\n",
      "  warnings.warn(\n",
      "C:\\Users\\kevinzhenshuai\\anaconda3\\lib\\site-packages\\bs4\\__init__.py:329: MarkupResemblesLocatorWarning: \"..\" looks like a filename, not markup. You should probably open this file and pass the filehandle into Beautiful Soup.\n",
      "  warnings.warn(\n",
      "C:\\Users\\kevinzhenshuai\\anaconda3\\lib\\site-packages\\bs4\\__init__.py:329: MarkupResemblesLocatorWarning: \".........\" looks like a filename, not markup. You should probably open this file and pass the filehandle into Beautiful Soup.\n",
      "  warnings.warn(\n",
      "C:\\Users\\kevinzhenshuai\\anaconda3\\lib\\site-packages\\bs4\\__init__.py:329: MarkupResemblesLocatorWarning: \"................................\" looks like a filename, not markup. You should probably open this file and pass the filehandle into Beautiful Soup.\n",
      "  warnings.warn(\n",
      "C:\\Users\\kevinzhenshuai\\anaconda3\\lib\\site-packages\\bs4\\__init__.py:329: MarkupResemblesLocatorWarning: \"..........\" looks like a filename, not markup. You should probably open this file and pass the filehandle into Beautiful Soup.\n",
      "  warnings.warn(\n",
      "C:\\Users\\kevinzhenshuai\\anaconda3\\lib\\site-packages\\bs4\\__init__.py:329: MarkupResemblesLocatorWarning: \".....................\" looks like a filename, not markup. You should probably open this file and pass the filehandle into Beautiful Soup.\n",
      "  warnings.warn(\n",
      "C:\\Users\\kevinzhenshuai\\anaconda3\\lib\\site-packages\\bs4\\__init__.py:329: MarkupResemblesLocatorWarning: \"..//..\" looks like a filename, not markup. You should probably open this file and pass the filehandle into Beautiful Soup.\n",
      "  warnings.warn(\n",
      "C:\\Users\\kevinzhenshuai\\anaconda3\\lib\\site-packages\\bs4\\__init__.py:329: MarkupResemblesLocatorWarning: \".....\" looks like a filename, not markup. You should probably open this file and pass the filehandle into Beautiful Soup.\n",
      "  warnings.warn(\n",
      "C:\\Users\\kevinzhenshuai\\anaconda3\\lib\\site-packages\\bs4\\__init__.py:329: MarkupResemblesLocatorWarning: \"....\" looks like a filename, not markup. You should probably open this file and pass the filehandle into Beautiful Soup.\n",
      "  warnings.warn(\n",
      "C:\\Users\\kevinzhenshuai\\anaconda3\\lib\\site-packages\\bs4\\__init__.py:329: MarkupResemblesLocatorWarning: \". . . .  .  .  .  .\" looks like a filename, not markup. You should probably open this file and pass the filehandle into Beautiful Soup.\n",
      "  warnings.warn(\n",
      "C:\\Users\\kevinzhenshuai\\anaconda3\\lib\\site-packages\\bs4\\__init__.py:329: MarkupResemblesLocatorWarning: \"....................\" looks like a filename, not markup. You should probably open this file and pass the filehandle into Beautiful Soup.\n",
      "  warnings.warn(\n",
      "C:\\Users\\kevinzhenshuai\\anaconda3\\lib\\site-packages\\bs4\\__init__.py:329: MarkupResemblesLocatorWarning: \".....................................\" looks like a filename, not markup. You should probably open this file and pass the filehandle into Beautiful Soup.\n",
      "  warnings.warn(\n"
     ]
    },
    {
     "name": "stdout",
     "output_type": "stream",
     "text": [
      "Wall time: 1min 50s\n"
     ]
    }
   ],
   "source": [
    "%%time\n",
    "#TRAIN -------------------------------------------------------\n",
    "trainDF['summary'] = trainDF['summary'].apply(lambda x: denoise_text(x)) \n",
    "trainDF['summary'] = trainDF['summary'].apply(lambda x: normalize_text(x))"
   ]
  },
  {
   "cell_type": "code",
   "execution_count": 32,
   "metadata": {},
   "outputs": [
    {
     "name": "stdout",
     "output_type": "stream",
     "text": [
      "Wall time: 262 ms\n"
     ]
    }
   ],
   "source": [
    "%%time\n",
    "#replace null summary with review text, vice versa. Drop null column when both are empty entries\n",
    "trainDF.loc[trainDF.summary =='', 'summary'] = trainDF.reviewText\n",
    "trainDF.loc[trainDF.reviewText =='', 'reviewText'] = trainDF.summary\n",
    "trainDF = trainDF.loc[trainDF.summary !=''].loc[trainDF.reviewText !=''].reset_index(drop = True)"
   ]
  },
  {
   "cell_type": "markdown",
   "metadata": {},
   "source": [
    "### Text Embedding"
   ]
  },
  {
   "cell_type": "markdown",
   "metadata": {},
   "source": [
    "#### reviewText"
   ]
  },
  {
   "cell_type": "code",
   "execution_count": 33,
   "metadata": {},
   "outputs": [
    {
     "data": {
      "text/html": [
       "<div>\n",
       "<style scoped>\n",
       "    .dataframe tbody tr th:only-of-type {\n",
       "        vertical-align: middle;\n",
       "    }\n",
       "\n",
       "    .dataframe tbody tr th {\n",
       "        vertical-align: top;\n",
       "    }\n",
       "\n",
       "    .dataframe thead th {\n",
       "        text-align: right;\n",
       "    }\n",
       "</style>\n",
       "<table border=\"1\" class=\"dataframe\">\n",
       "  <thead>\n",
       "    <tr style=\"text-align: right;\">\n",
       "      <th></th>\n",
       "      <th>bins</th>\n",
       "      <th>counts</th>\n",
       "    </tr>\n",
       "  </thead>\n",
       "  <tbody>\n",
       "    <tr>\n",
       "      <th>0</th>\n",
       "      <td>0-100</td>\n",
       "      <td>156161</td>\n",
       "    </tr>\n",
       "    <tr>\n",
       "      <th>1</th>\n",
       "      <td>100-300</td>\n",
       "      <td>37562</td>\n",
       "    </tr>\n",
       "    <tr>\n",
       "      <th>2</th>\n",
       "      <td>300-500</td>\n",
       "      <td>4909</td>\n",
       "    </tr>\n",
       "    <tr>\n",
       "      <th>3</th>\n",
       "      <td>&gt;500</td>\n",
       "      <td>1353</td>\n",
       "    </tr>\n",
       "  </tbody>\n",
       "</table>\n",
       "</div>"
      ],
      "text/plain": [
       "      bins  counts\n",
       "0    0-100  156161\n",
       "1  100-300   37562\n",
       "2  300-500    4909\n",
       "3     >500    1353"
      ]
     },
     "execution_count": 33,
     "metadata": {},
     "output_type": "execute_result"
    },
    {
     "data": {
      "image/png": "[encoded data removed]",
      "text/plain": [
       "<Figure size 432x288 with 1 Axes>"
      ]
     },
     "metadata": {
      "needs_background": "light"
     },
     "output_type": "display_data"
    }
   ],
   "source": [
    "words_reviewText =pd.DataFrame({'count':trainDF.reviewText.apply(lambda x : len(x.split()))})\n",
    "\n",
    "words_reviewText['bins'] =pd.cut(words_reviewText['count'], bins=[0,100,300,500,np.inf], labels=['0-100', '100-300', '300-500','>500'])\n",
    "reviewText_distribution = words_reviewText.groupby('bins').size().reset_index().rename(columns={0:'counts'})\n",
    "\n",
    "sns.barplot(x='bins', y='counts', data=reviewText_distribution).set_title(\"Word distribution per bin\")\n",
    "reviewText_distribution.head()"
   ]
  },
  {
   "cell_type": "code",
   "execution_count": 34,
   "metadata": {},
   "outputs": [
    {
     "name": "stdout",
     "output_type": "stream",
     "text": [
      "Wall time: 998 µs\n"
     ]
    }
   ],
   "source": [
    "%%time\n",
    "# since word count more than 500 is less than majority\n",
    "MAX_LENGTH_reivewText = 500\n",
    "tokenizer = Tokenizer()"
   ]
  },
  {
   "cell_type": "code",
   "execution_count": 35,
   "metadata": {},
   "outputs": [
    {
     "name": "stdout",
     "output_type": "stream",
     "text": [
      "reviewText train vocabulary size 100817\n",
      "\n"
     ]
    }
   ],
   "source": [
    "# embed reviewText\n",
    "tokenizer.fit_on_texts(trainDF.reviewText.values)\n",
    "reviewText_train_seq = tokenizer.texts_to_sequences(trainDF.reviewText.values)\n",
    "reviewText_train_padded = pad_sequences(reviewText_train_seq, maxlen=MAX_LENGTH_reivewText)\n",
    "print(\"reviewText train vocabulary size %g\\n\" %(len(tokenizer.word_index) + 1))"
   ]
  },
  {
   "cell_type": "code",
   "execution_count": 36,
   "metadata": {},
   "outputs": [],
   "source": [
    "vocab_reviewText = 103450"
   ]
  },
  {
   "cell_type": "code",
   "execution_count": 37,
   "metadata": {},
   "outputs": [
    {
     "data": {
      "text/html": [
       "<div>\n",
       "<style scoped>\n",
       "    .dataframe tbody tr th:only-of-type {\n",
       "        vertical-align: middle;\n",
       "    }\n",
       "\n",
       "    .dataframe tbody tr th {\n",
       "        vertical-align: top;\n",
       "    }\n",
       "\n",
       "    .dataframe thead th {\n",
       "        text-align: right;\n",
       "    }\n",
       "</style>\n",
       "<table border=\"1\" class=\"dataframe\">\n",
       "  <thead>\n",
       "    <tr style=\"text-align: right;\">\n",
       "      <th></th>\n",
       "      <th>bins</th>\n",
       "      <th>counts</th>\n",
       "    </tr>\n",
       "  </thead>\n",
       "  <tbody>\n",
       "    <tr>\n",
       "      <th>0</th>\n",
       "      <td>0-5</td>\n",
       "      <td>179400</td>\n",
       "    </tr>\n",
       "    <tr>\n",
       "      <th>1</th>\n",
       "      <td>5-10</td>\n",
       "      <td>18997</td>\n",
       "    </tr>\n",
       "    <tr>\n",
       "      <th>2</th>\n",
       "      <td>10-25</td>\n",
       "      <td>1123</td>\n",
       "    </tr>\n",
       "    <tr>\n",
       "      <th>3</th>\n",
       "      <td>&gt;25</td>\n",
       "      <td>465</td>\n",
       "    </tr>\n",
       "  </tbody>\n",
       "</table>\n",
       "</div>"
      ],
      "text/plain": [
       "    bins  counts\n",
       "0    0-5  179400\n",
       "1   5-10   18997\n",
       "2  10-25    1123\n",
       "3    >25     465"
      ]
     },
     "execution_count": 37,
     "metadata": {},
     "output_type": "execute_result"
    },
    {
     "data": {
      "image/png": "[encoded data removed]",
      "text/plain": [
       "<Figure size 432x288 with 1 Axes>"
      ]
     },
     "metadata": {
      "needs_background": "light"
     },
     "output_type": "display_data"
    }
   ],
   "source": [
    "words_summary =pd.DataFrame({'count':trainDF.summary.apply(lambda x : len(x.split()))})\n",
    "\n",
    "words_summary['bins'] =pd.cut(words_summary['count'], bins=[0,5,10,25,np.inf], labels=['0-5', '5-10', '10-25','>25'])\n",
    "summary_distribution = words_summary.groupby('bins').size().reset_index().rename(columns={0:'counts'})\n",
    "\n",
    "sns.barplot(x='bins', y='counts', data=summary_distribution).set_title(\"Word distribution per bin\")\n",
    "summary_distribution.head()"
   ]
  },
  {
   "cell_type": "code",
   "execution_count": 38,
   "metadata": {},
   "outputs": [],
   "source": [
    "# since word count more than 800 is less than 500.\n",
    "MAX_LENGTH_summary = 25\n",
    "tokenizer = Tokenizer()"
   ]
  },
  {
   "cell_type": "code",
   "execution_count": 39,
   "metadata": {},
   "outputs": [
    {
     "name": "stdout",
     "output_type": "stream",
     "text": [
      "summary train vocabulary size 21501\n",
      "\n"
     ]
    }
   ],
   "source": [
    "# embed summary\n",
    "tokenizer.fit_on_texts(trainDF.summary.values)\n",
    "summary_train_seq = tokenizer.texts_to_sequences(trainDF.summary.values)\n",
    "summary_train_padded = pad_sequences(summary_train_seq, maxlen=MAX_LENGTH_summary)\n",
    "print(\"summary train vocabulary size %g\\n\" %(len(tokenizer.word_index) + 1))"
   ]
  },
  {
   "cell_type": "code",
   "execution_count": 40,
   "metadata": {},
   "outputs": [],
   "source": [
    "vocab_summary = 22000"
   ]
  },
  {
   "cell_type": "code",
   "execution_count": 74,
   "metadata": {},
   "outputs": [],
   "source": [
    "#embedding col names of review text and summary\n",
    "review_emb_schema = []\n",
    "for i in range(1,reviewText_train_padded.shape[1]+1):\n",
    "    review_emb_schema.append('review_emb_'+str(i))\n",
    "\n",
    "summary_emb_schema = []\n",
    "for i in range(1,summary_train_padded.shape[1]+1):\n",
    "    summary_emb_schema.append('summary_emb_'+str(i))"
   ]
  },
  {
   "cell_type": "code",
   "execution_count": 80,
   "metadata": {},
   "outputs": [],
   "source": [
    "reviewTextDF = pd.DataFrame(reviewText_train_padded, columns = review_emb_schema)\n",
    "summaryDF = pd.DataFrame(summary_train_padded, columns = summary_emb_schema)"
   ]
  },
  {
   "cell_type": "code",
   "execution_count": 86,
   "metadata": {},
   "outputs": [],
   "source": [
    "X = pd.concat([reviewTextDF, summaryDF,trainDF['userID']],axis = 1)\n",
    "y = trainDF['category'].astype('category').cat.codes"
   ]
  },
  {
   "cell_type": "code",
   "execution_count": 101,
   "metadata": {},
   "outputs": [
    {
     "data": {
      "text/plain": [
       "{0: 'Alternative Rock',\n",
       " 1: 'Classical',\n",
       " 2: 'Dance & Electronic',\n",
       " 3: 'Jazz',\n",
       " 4: 'Pop'}"
      ]
     },
     "execution_count": 101,
     "metadata": {},
     "output_type": "execute_result"
    }
   ],
   "source": [
    "dict_y = dict(enumerate(trainDF['category'].astype('category').cat.categories))\n",
    "dict_y"
   ]
  },
  {
   "cell_type": "markdown",
   "metadata": {},
   "source": [
    "#### Further Split Training Data into Training and Validation Set"
   ]
  },
  {
   "cell_type": "code",
   "execution_count": 104,
   "metadata": {},
   "outputs": [
    {
     "name": "stderr",
     "output_type": "stream",
     "text": [
      "C:\\Users\\kevinzhenshuai\\anaconda3\\lib\\site-packages\\imblearn\\utils\\_validation.py:635: FutureWarning: Pass sampling_strategy=minority as keyword args. From version 0.9 passing these as positional arguments will result in an error\n",
      "  warnings.warn(\"Pass {} as keyword args. From version 0.9 \"\n"
     ]
    }
   ],
   "source": [
    "# from imblearn.over_sampling import SMOTE\n",
    "# smote = SMOTE('minority')\n",
    "# X_sm,y_sm = smote.fit_sample(X,y)"
   ]
  },
  {
   "cell_type": "code",
   "execution_count": 211,
   "metadata": {},
   "outputs": [],
   "source": [
    "# y_enc = pd.concat([pd.DataFrame(y_sm, columns=['category']),pd.get_dummies(data = y_sm, columns = 'category')],axis = 1)\n",
    "y_enc = pd.concat([pd.DataFrame(y, columns=['category']),pd.get_dummies(data = y, columns = 'category')],axis = 1)"
   ]
  },
  {
   "cell_type": "code",
   "execution_count": 106,
   "metadata": {},
   "outputs": [
    {
     "name": "stdout",
     "output_type": "stream",
     "text": [
      "(279525, 526) (199985, 526)\n",
      "(279525,) (199985,)\n"
     ]
    }
   ],
   "source": [
    "print(X_sm.shape, X.shape)\n",
    "print(y_sm.shape, y.shape)"
   ]
  },
  {
   "cell_type": "code",
   "execution_count": 212,
   "metadata": {
    "id": "h9dcmNbmzokU"
   },
   "outputs": [],
   "source": [
    "# RRP_x_train, RRP_x_val, RRP_y_train, RRP_y_val = train_test_split(X_sm, y_enc , random_state=42, test_size=0.3)\n",
    "RRP_x_train, RRP_x_val, RRP_y_train, RRP_y_val = train_test_split(X, y_enc , random_state=42, test_size=0.3)"
   ]
  },
  {
   "cell_type": "markdown",
   "metadata": {},
   "source": [
    "## Model Implementation"
   ]
  },
  {
   "cell_type": "code",
   "execution_count": 221,
   "metadata": {},
   "outputs": [],
   "source": [
    "def embedding_model(MAX_LENGTH_reivewText,MAX_LENGTH_summary):\n",
    "    review_inputs = Input(shape=(MAX_LENGTH_reivewText, ),name = 'review_input')\n",
    "    review_emb = Embedding(vocab_reviewText,\n",
    "                                32,\n",
    "                                input_length=MAX_LENGTH_reivewText,\n",
    "                                name = 'review_emb')(review_inputs)\n",
    "    review_out = Flatten()(review_emb)\n",
    "\n",
    "    summary_inputs = Input(shape=(MAX_LENGTH_summary, ),name = 'summary_inputs')\n",
    "    summary_emb = Embedding(vocab_summary,\n",
    "                                32,\n",
    "                                input_length=MAX_LENGTH_summary,\n",
    "                                name = 'summary_emb')(summary_inputs)\n",
    "    summary_out = Flatten()(summary_emb)\n",
    "    # dot = Dot(name = 'dot', normalize = True, axes = 2)([review_emb,summary_emb])\n",
    "    # merged = Flatten()(dot)\n",
    "    # merged = Reshape(target_shape = [-1,625])(merged)\n",
    "    merged = concatenate([review_out, summary_out])\n",
    "\n",
    "    x = Dense(32, activation='relu',kernel_regularizer=regularizers.l2(0.001))(user_vec)\n",
    "    x = Dropout(0.1)(x)\n",
    "    predictions = Dense(5, activation='softmax')(x)\n",
    "    model = Model(inputs=[review_inputs,summary_inputs], outputs=predictions)\n",
    "    model.compile(optimizer='adam',\n",
    "                  loss='categorical_crossentropy',\n",
    "                  metrics=['acc'])\n",
    "\n",
    "    model.summary()\n",
    "    return model"
   ]
  },
  {
   "cell_type": "code",
   "execution_count": 222,
   "metadata": {},
   "outputs": [
    {
     "name": "stdout",
     "output_type": "stream",
     "text": [
      "Model: \"functional_73\"\n",
      "__________________________________________________________________________________________________\n",
      "Layer (type)                    Output Shape         Param #     Connected to                     \n",
      "==================================================================================================\n",
      "review_input (InputLayer)       [(None, 500)]        0                                            \n",
      "__________________________________________________________________________________________________\n",
      "summary_inputs (InputLayer)     [(None, 25)]         0                                            \n",
      "__________________________________________________________________________________________________\n",
      "review_emb (Embedding)          (None, 500, 32)      3310400     review_input[0][0]               \n",
      "__________________________________________________________________________________________________\n",
      "summary_emb (Embedding)         (None, 25, 32)       704000      summary_inputs[0][0]             \n",
      "__________________________________________________________________________________________________\n",
      "flatten_22 (Flatten)            (None, 16000)        0           review_emb[0][0]                 \n",
      "__________________________________________________________________________________________________\n",
      "flatten_23 (Flatten)            (None, 800)          0           summary_emb[0][0]                \n",
      "__________________________________________________________________________________________________\n",
      "concatenate_11 (Concatenate)    (None, 16800)        0           flatten_22[0][0]                 \n",
      "                                                                 flatten_23[0][0]                 \n",
      "__________________________________________________________________________________________________\n",
      "dense_48 (Dense)                (None, 32)           537632      concatenate_11[0][0]             \n",
      "__________________________________________________________________________________________________\n",
      "dense_49 (Dense)                (None, 5)            165         dense_48[0][0]                   \n",
      "==================================================================================================\n",
      "Total params: 4,552,197\n",
      "Trainable params: 4,552,197\n",
      "Non-trainable params: 0\n",
      "__________________________________________________________________________________________________\n",
      "Epoch 1/5\n",
      "4375/4375 [==============================] - ETA: 0s - loss: 0.8400 - acc: 0.6864WARNING:tensorflow:Can save best model only with val_accuracy available, skipping.\n",
      "4375/4375 [==============================] - 170s 39ms/step - loss: 0.8400 - acc: 0.6864\n",
      "Epoch 2/5\n",
      "4374/4375 [============================>.] - ETA: 0s - loss: 0.5701 - acc: 0.7926WARNING:tensorflow:Can save best model only with val_accuracy available, skipping.\n",
      "4375/4375 [==============================] - 171s 39ms/step - loss: 0.5701 - acc: 0.7926\n",
      "Epoch 3/5\n",
      "4375/4375 [==============================] - ETA: 0s - loss: 0.3990 - acc: 0.8580WARNING:tensorflow:Can save best model only with val_accuracy available, skipping.\n",
      "4375/4375 [==============================] - 170s 39ms/step - loss: 0.3990 - acc: 0.8580\n",
      "Epoch 4/5\n",
      "4374/4375 [============================>.] - ETA: 0s - loss: 0.3025 - acc: 0.8938WARNING:tensorflow:Can save best model only with val_accuracy available, skipping.\n",
      "4375/4375 [==============================] - 169s 39ms/step - loss: 0.3025 - acc: 0.8938\n",
      "Epoch 5/5\n",
      "4374/4375 [============================>.] - ETA: 0s - loss: 0.2558 - acc: 0.9112WARNING:tensorflow:Can save best model only with val_accuracy available, skipping.\n",
      "4375/4375 [==============================] - 171s 39ms/step - loss: 0.2558 - acc: 0.9111\n"
     ]
    }
   ],
   "source": [
    "model = embedding_model(MAX_LENGTH_reivewText,MAX_LENGTH_summary)\n",
    "filepath=\"weights-simple.hdf5\"\n",
    "checkpointer = ModelCheckpoint(filepath, monitor='val_accuracy', verbose=1, save_best_only=True, mode='max')\n",
    "history = model.fit([RRP_x_train[review_emb_schema],RRP_x_train[summary_emb_schema]], batch_size=32, y=RRP_y_train.drop('category',axis = 1), verbose=1, \n",
    "          shuffle=True, epochs=5, callbacks=[checkpointer])"
   ]
  },
  {
   "cell_type": "code",
   "execution_count": 223,
   "metadata": {},
   "outputs": [],
   "source": [
    "# verify mse with best model on validation set\n",
    "prob_textModel = model.predict([RRP_x_val[review_emb_schema],RRP_x_val[summary_emb_schema]])\n",
    "predicted_textModel = np.argmax(prob_textModel, axis=1)"
   ]
  },
  {
   "cell_type": "code",
   "execution_count": 224,
   "metadata": {},
   "outputs": [
    {
     "data": {
      "text/plain": [
       "0.6987465831055404"
      ]
     },
     "execution_count": 224,
     "metadata": {},
     "output_type": "execute_result"
    }
   ],
   "source": [
    "acc1 = accuracy_score(RRP_y_val['category'], predicted_textModel)\n",
    "acc1"
   ]
  },
  {
   "cell_type": "markdown",
   "metadata": {},
   "source": [
    "### Classifier based on Reviewer ID"
   ]
  },
  {
   "cell_type": "code",
   "execution_count": 215,
   "metadata": {},
   "outputs": [
    {
     "data": {
      "text/plain": [
       "29286    332\n",
       "61258    317\n",
       "26681    244\n",
       "37512    216\n",
       "4714     192\n",
       "        ... \n",
       "64162      1\n",
       "58017      1\n",
       "60064      1\n",
       "70303      1\n",
       "2047       1\n",
       "Name: userID, Length: 60882, dtype: int64"
      ]
     },
     "execution_count": 215,
     "metadata": {},
     "output_type": "execute_result"
    }
   ],
   "source": [
    "RRP_x_train.userID.value_counts()"
   ]
  },
  {
   "cell_type": "code",
   "execution_count": 216,
   "metadata": {},
   "outputs": [
    {
     "data": {
      "text/html": [
       "<div>\n",
       "<style scoped>\n",
       "    .dataframe tbody tr th:only-of-type {\n",
       "        vertical-align: middle;\n",
       "    }\n",
       "\n",
       "    .dataframe tbody tr th {\n",
       "        vertical-align: top;\n",
       "    }\n",
       "\n",
       "    .dataframe thead th {\n",
       "        text-align: right;\n",
       "    }\n",
       "</style>\n",
       "<table border=\"1\" class=\"dataframe\">\n",
       "  <thead>\n",
       "    <tr style=\"text-align: right;\">\n",
       "      <th></th>\n",
       "      <th>category</th>\n",
       "      <th>0</th>\n",
       "      <th>1</th>\n",
       "      <th>2</th>\n",
       "      <th>3</th>\n",
       "      <th>4</th>\n",
       "    </tr>\n",
       "  </thead>\n",
       "  <tbody>\n",
       "    <tr>\n",
       "      <th>120269</th>\n",
       "      <td>4</td>\n",
       "      <td>0</td>\n",
       "      <td>0</td>\n",
       "      <td>0</td>\n",
       "      <td>0</td>\n",
       "      <td>1</td>\n",
       "    </tr>\n",
       "    <tr>\n",
       "      <th>85018</th>\n",
       "      <td>3</td>\n",
       "      <td>0</td>\n",
       "      <td>0</td>\n",
       "      <td>0</td>\n",
       "      <td>1</td>\n",
       "      <td>0</td>\n",
       "    </tr>\n",
       "    <tr>\n",
       "      <th>169705</th>\n",
       "      <td>0</td>\n",
       "      <td>1</td>\n",
       "      <td>0</td>\n",
       "      <td>0</td>\n",
       "      <td>0</td>\n",
       "      <td>0</td>\n",
       "    </tr>\n",
       "    <tr>\n",
       "      <th>173203</th>\n",
       "      <td>4</td>\n",
       "      <td>0</td>\n",
       "      <td>0</td>\n",
       "      <td>0</td>\n",
       "      <td>0</td>\n",
       "      <td>1</td>\n",
       "    </tr>\n",
       "    <tr>\n",
       "      <th>12292</th>\n",
       "      <td>4</td>\n",
       "      <td>0</td>\n",
       "      <td>0</td>\n",
       "      <td>0</td>\n",
       "      <td>0</td>\n",
       "      <td>1</td>\n",
       "    </tr>\n",
       "    <tr>\n",
       "      <th>...</th>\n",
       "      <td>...</td>\n",
       "      <td>...</td>\n",
       "      <td>...</td>\n",
       "      <td>...</td>\n",
       "      <td>...</td>\n",
       "      <td>...</td>\n",
       "    </tr>\n",
       "    <tr>\n",
       "      <th>119879</th>\n",
       "      <td>1</td>\n",
       "      <td>0</td>\n",
       "      <td>1</td>\n",
       "      <td>0</td>\n",
       "      <td>0</td>\n",
       "      <td>0</td>\n",
       "    </tr>\n",
       "    <tr>\n",
       "      <th>103694</th>\n",
       "      <td>0</td>\n",
       "      <td>1</td>\n",
       "      <td>0</td>\n",
       "      <td>0</td>\n",
       "      <td>0</td>\n",
       "      <td>0</td>\n",
       "    </tr>\n",
       "    <tr>\n",
       "      <th>131932</th>\n",
       "      <td>4</td>\n",
       "      <td>0</td>\n",
       "      <td>0</td>\n",
       "      <td>0</td>\n",
       "      <td>0</td>\n",
       "      <td>1</td>\n",
       "    </tr>\n",
       "    <tr>\n",
       "      <th>146867</th>\n",
       "      <td>4</td>\n",
       "      <td>0</td>\n",
       "      <td>0</td>\n",
       "      <td>0</td>\n",
       "      <td>0</td>\n",
       "      <td>1</td>\n",
       "    </tr>\n",
       "    <tr>\n",
       "      <th>121958</th>\n",
       "      <td>4</td>\n",
       "      <td>0</td>\n",
       "      <td>0</td>\n",
       "      <td>0</td>\n",
       "      <td>0</td>\n",
       "      <td>1</td>\n",
       "    </tr>\n",
       "  </tbody>\n",
       "</table>\n",
       "<p>139989 rows × 6 columns</p>\n",
       "</div>"
      ],
      "text/plain": [
       "        category  0  1  2  3  4\n",
       "120269         4  0  0  0  0  1\n",
       "85018          3  0  0  0  1  0\n",
       "169705         0  1  0  0  0  0\n",
       "173203         4  0  0  0  0  1\n",
       "12292          4  0  0  0  0  1\n",
       "...          ... .. .. .. .. ..\n",
       "119879         1  0  1  0  0  0\n",
       "103694         0  1  0  0  0  0\n",
       "131932         4  0  0  0  0  1\n",
       "146867         4  0  0  0  0  1\n",
       "121958         4  0  0  0  0  1\n",
       "\n",
       "[139989 rows x 6 columns]"
      ]
     },
     "execution_count": 216,
     "metadata": {},
     "output_type": "execute_result"
    }
   ],
   "source": [
    "RRP_y_train"
   ]
  },
  {
   "cell_type": "code",
   "execution_count": 217,
   "metadata": {},
   "outputs": [
    {
     "name": "stdout",
     "output_type": "stream",
     "text": [
      "Model: \"functional_71\"\n",
      "_________________________________________________________________\n",
      "Layer (type)                 Output Shape              Param #   \n",
      "=================================================================\n",
      "user_id (InputLayer)         [(None, 1)]               0         \n",
      "_________________________________________________________________\n",
      "user_emb (Embedding)         (None, 1, 32)             2313216   \n",
      "_________________________________________________________________\n",
      "FlattenUser (Flatten)        (None, 32)                0         \n",
      "_________________________________________________________________\n",
      "dense_46 (Dense)             (None, 32)                1056      \n",
      "_________________________________________________________________\n",
      "dense_47 (Dense)             (None, 5)                 165       \n",
      "=================================================================\n",
      "Total params: 2,314,437\n",
      "Trainable params: 2,314,437\n",
      "Non-trainable params: 0\n",
      "_________________________________________________________________\n",
      "Epoch 1/10\n",
      "4374/4375 [============================>.] - ETA: 0s - loss: 1.1486 - acc: 0.5584WARNING:tensorflow:Can save best model only with val_accuracy available, skipping.\n",
      "4375/4375 [==============================] - 84s 19ms/step - loss: 1.1486 - acc: 0.5584\n",
      "Epoch 2/10\n",
      "4373/4375 [============================>.] - ETA: 0s - loss: 0.7016 - acc: 0.7572WARNING:tensorflow:Can save best model only with val_accuracy available, skipping.\n",
      "4375/4375 [==============================] - 83s 19ms/step - loss: 0.7016 - acc: 0.7572\n",
      "Epoch 3/10\n",
      "4373/4375 [============================>.] - ETA: 0s - loss: 0.5364 - acc: 0.7811WARNING:tensorflow:Can save best model only with val_accuracy available, skipping.\n",
      "4375/4375 [==============================] - 89s 20ms/step - loss: 0.5364 - acc: 0.7810\n",
      "Epoch 4/10\n",
      "4374/4375 [============================>.] - ETA: 0s - loss: 0.4690 - acc: 0.7881WARNING:tensorflow:Can save best model only with val_accuracy available, skipping.\n",
      "4375/4375 [==============================] - 90s 21ms/step - loss: 0.4690 - acc: 0.7880\n",
      "Epoch 5/10\n",
      "4375/4375 [==============================] - ETA: 0s - loss: 0.4360 - acc: 0.7935WARNING:tensorflow:Can save best model only with val_accuracy available, skipping.\n",
      "4375/4375 [==============================] - 91s 21ms/step - loss: 0.4360 - acc: 0.7935\n",
      "Epoch 6/10\n",
      "4373/4375 [============================>.] - ETA: 0s - loss: 0.4184 - acc: 0.7984WARNING:tensorflow:Can save best model only with val_accuracy available, skipping.\n",
      "4375/4375 [==============================] - 93s 21ms/step - loss: 0.4184 - acc: 0.7984\n",
      "Epoch 7/10\n",
      "4373/4375 [============================>.] - ETA: 0s - loss: 0.4084 - acc: 0.8002WARNING:tensorflow:Can save best model only with val_accuracy available, skipping.\n",
      "4375/4375 [==============================] - 97s 22ms/step - loss: 0.4084 - acc: 0.8002\n",
      "Epoch 8/10\n",
      "4375/4375 [==============================] - ETA: 0s - loss: 0.4007 - acc: 0.8021- ETA: 1s WARNING:tensorflow:Can save best model only with val_accuracy available, skipping.\n",
      "4375/4375 [==============================] - 95s 22ms/step - loss: 0.4007 - acc: 0.8021\n",
      "Epoch 9/10\n",
      "4374/4375 [============================>.] - ETA: 0s - loss: 0.3967 - acc: 0.8034WARNING:tensorflow:Can save best model only with val_accuracy available, skipping.\n",
      "4375/4375 [==============================] - 96s 22ms/step - loss: 0.3967 - acc: 0.8034\n",
      "Epoch 10/10\n",
      "4373/4375 [============================>.] - ETA: 0s - loss: 0.3922 - acc: 0.8044WARNING:tensorflow:Can save best model only with val_accuracy available, skipping.\n",
      "4375/4375 [==============================] - 93s 21ms/step - loss: 0.3922 - acc: 0.8043\n"
     ]
    }
   ],
   "source": [
    "EMBEDDING_SIZE = 32 \n",
    "NUM_USERS = trainDF['userID'].nunique()+5\n",
    "ROW_COUNT = RRP_x_train.shape[0]\n",
    "\n",
    "def EmbeddingRec(EMBEDDING_SIZE, NUM_USERS, ROW_COUNT):\n",
    "    user_input = Input(shape=(1,), name='user_id')\n",
    "\n",
    "    user_emb = Embedding(output_dim=EMBEDDING_SIZE, input_dim=NUM_USERS, input_length=ROW_COUNT, name='user_emb')(user_input)\n",
    "    user_vec = Flatten(name='FlattenUser')(user_emb)\n",
    "\n",
    "    user_model = Model(inputs=user_input, outputs=user_vec)\n",
    "\n",
    "    x = Dense(32, activation='relu',kernel_regularizer=regularizers.l2(0.001))(user_vec)\n",
    "    x = Dropout(0.1)(x)\n",
    "    predictions = Dense(5, activation='softmax')(x)\n",
    "    model = Model(inputs=user_input, outputs=predictions)\n",
    "    model.compile(optimizer='adam',\n",
    "                  loss='categorical_crossentropy',\n",
    "                  metrics=['acc'])\n",
    "\n",
    "    model.summary()\n",
    "    return model, user_model\n",
    "\n",
    "reviewID_model,user_model = EmbeddingRec(EMBEDDING_SIZE, NUM_USERS,ROW_COUNT)\n",
    "filepath=\"userID_embeddingModel.hdf5\"\n",
    "\n",
    "callbacks = ModelCheckpoint(filepath, monitor='val_accuracy', verbose=1, save_best_only=True, mode='max')\n",
    "\n",
    "\n",
    "# fit network\n",
    "history = reviewID_model.fit(RRP_x_train['userID'], y=RRP_y_train.drop('category',axis=1), epochs =10,\n",
    "                            verbose = 1, \n",
    "                            callbacks = callbacks)"
   ]
  },
  {
   "cell_type": "code",
   "execution_count": 218,
   "metadata": {},
   "outputs": [],
   "source": [
    "# verify mse with best model on validation set\n",
    "prob_userModel = reviewID_model.predict(RRP_x_val['userID'])"
   ]
  },
  {
   "cell_type": "code",
   "execution_count": 219,
   "metadata": {},
   "outputs": [],
   "source": [
    "predicted_userModel = np.argmax(prob_userModel, axis=1)"
   ]
  },
  {
   "cell_type": "code",
   "execution_count": 220,
   "metadata": {},
   "outputs": [
    {
     "data": {
      "text/plain": [
       "0.5922394826321755"
      ]
     },
     "execution_count": 220,
     "metadata": {},
     "output_type": "execute_result"
    }
   ],
   "source": [
    "acc2 = accuracy_score(RRP_y_val['category'], predicted_userModel)\n",
    "acc2"
   ]
  },
  {
   "cell_type": "markdown",
   "metadata": {},
   "source": [
    "### Model Ensembling"
   ]
  },
  {
   "cell_type": "code",
   "execution_count": 225,
   "metadata": {},
   "outputs": [],
   "source": [
    "w1 = acc1/(acc1+acc2)\n",
    "w2 = 1- w1\n",
    "prob = w1*prob_textModel + w2*prob_userModel\n",
    "predicted = np.argmax(prob,axis = 1)"
   ]
  },
  {
   "cell_type": "code",
   "execution_count": 226,
   "metadata": {},
   "outputs": [
    {
     "data": {
      "text/plain": [
       "0.7250983398893259"
      ]
     },
     "execution_count": 226,
     "metadata": {},
     "output_type": "execute_result"
    }
   ],
   "source": [
    "accuracy_score(RRP_y_val['category'], predicted)"
   ]
  },
  {
   "cell_type": "markdown",
   "metadata": {},
   "source": [
    "#### All potentially related embeddings concatenated in the neural network"
   ]
  },
  {
   "cell_type": "code",
   "execution_count": 227,
   "metadata": {},
   "outputs": [],
   "source": [
    "EMBEDDING_SIZE = 32\n",
    "NUM_USERS = trainDF['reviewerID'].nunique()+5\n",
    "ROW_COUNT = RRP_x_train.shape[0]\n",
    "\n",
    "def embeddingAll(MAX_LENGTH_reivewText,MAX_LENGTH_summary, EMBEDDING_SIZE, NUM_USERS, ROW_COUNT):\n",
    "    review_inputs = Input(shape=(MAX_LENGTH_reivewText, ),name = 'review_input')\n",
    "    review_emb = Embedding(vocab_reviewText,\n",
    "                                32,\n",
    "                                input_length=MAX_LENGTH_reivewText,\n",
    "                                name = 'review_emb')(review_inputs)\n",
    "    review_out = Flatten()(review_emb)\n",
    "\n",
    "    summary_inputs = Input(shape=(MAX_LENGTH_summary, ),name = 'summary_inputs')\n",
    "    summary_emb = Embedding(vocab_summary,\n",
    "                                32,\n",
    "                                input_length=MAX_LENGTH_summary,\n",
    "                                name = 'summary_emb')(summary_inputs)\n",
    "    summary_out = Flatten()(summary_emb)\n",
    "    \n",
    "    user_input = Input(shape=(1,), name='user_id')\n",
    "\n",
    "    user_emb = Embedding(output_dim=EMBEDDING_SIZE, input_dim=NUM_USERS, input_length=ROW_COUNT, name='user_emb')(user_input)\n",
    "    user_out = Flatten(name='FlattenUser')(user_emb)\n",
    "    \n",
    "    # dot = Dot(name = 'dot', normalize = True, axes = 2)([review_emb,summary_emb])\n",
    "    # merged = Flatten()(dot)\n",
    "    # merged = Reshape(target_shape = [-1,625])(merged)\n",
    "    merged = concatenate([review_out, summary_out, user_out])\n",
    "\n",
    "    x = Dense(32, activation='relu',kernel_regularizer=regularizers.l2(0.001))(user_vec)\n",
    "    x = Dropout(0.1)(x)\n",
    "    predictions = Dense(5, activation='softmax')(x)\n",
    "    model = Model(inputs=[review_inputs,summary_inputs,user_input], outputs=predictions)\n",
    "    model.compile(optimizer='adam',\n",
    "                  loss='categorical_crossentropy',\n",
    "                  metrics=['acc'])\n",
    "\n",
    "    model.summary()\n",
    "    return model"
   ]
  },
  {
   "cell_type": "code",
   "execution_count": 228,
   "metadata": {},
   "outputs": [
    {
     "name": "stdout",
     "output_type": "stream",
     "text": [
      "Model: \"functional_75\"\n",
      "__________________________________________________________________________________________________\n",
      "Layer (type)                    Output Shape         Param #     Connected to                     \n",
      "==================================================================================================\n",
      "review_input (InputLayer)       [(None, 500)]        0                                            \n",
      "__________________________________________________________________________________________________\n",
      "summary_inputs (InputLayer)     [(None, 25)]         0                                            \n",
      "__________________________________________________________________________________________________\n",
      "user_id (InputLayer)            [(None, 1)]          0                                            \n",
      "__________________________________________________________________________________________________\n",
      "review_emb (Embedding)          (None, 500, 32)      3310400     review_input[0][0]               \n",
      "__________________________________________________________________________________________________\n",
      "summary_emb (Embedding)         (None, 25, 32)       704000      summary_inputs[0][0]             \n",
      "__________________________________________________________________________________________________\n",
      "user_emb (Embedding)            (None, 1, 32)        2313216     user_id[0][0]                    \n",
      "__________________________________________________________________________________________________\n",
      "flatten_24 (Flatten)            (None, 16000)        0           review_emb[0][0]                 \n",
      "__________________________________________________________________________________________________\n",
      "flatten_25 (Flatten)            (None, 800)          0           summary_emb[0][0]                \n",
      "__________________________________________________________________________________________________\n",
      "FlattenUser (Flatten)           (None, 32)           0           user_emb[0][0]                   \n",
      "__________________________________________________________________________________________________\n",
      "concatenate_12 (Concatenate)    (None, 16832)        0           flatten_24[0][0]                 \n",
      "                                                                 flatten_25[0][0]                 \n",
      "                                                                 FlattenUser[0][0]                \n",
      "__________________________________________________________________________________________________\n",
      "dense_50 (Dense)                (None, 32)           538656      concatenate_12[0][0]             \n",
      "__________________________________________________________________________________________________\n",
      "dense_51 (Dense)                (None, 5)            165         dense_50[0][0]                   \n",
      "==================================================================================================\n",
      "Total params: 6,866,437\n",
      "Trainable params: 6,866,437\n",
      "Non-trainable params: 0\n",
      "__________________________________________________________________________________________________\n",
      "Epoch 1/5\n",
      "4375/4375 [==============================] - ETA: 0s - loss: 0.8340 - acc: 0.6835WARNING:tensorflow:Can save best model only with val_acc available, skipping.\n",
      "4375/4375 [==============================] - 243s 55ms/step - loss: 0.8340 - acc: 0.6835\n",
      "Epoch 2/5\n",
      "4375/4375 [==============================] - ETA: 0s - loss: 0.4092 - acc: 0.8561WARNING:tensorflow:Can save best model only with val_acc available, skipping.\n",
      "4375/4375 [==============================] - 242s 55ms/step - loss: 0.4092 - acc: 0.8561\n",
      "Epoch 3/5\n",
      "4375/4375 [==============================] - ETA: 0s - loss: 0.1968 - acc: 0.9298WARNING:tensorflow:Can save best model only with val_acc available, skipping.\n",
      "4375/4375 [==============================] - 246s 56ms/step - loss: 0.1968 - acc: 0.9298\n",
      "Epoch 4/5\n",
      "4375/4375 [==============================] - ETA: 0s - loss: 0.1156 - acc: 0.9559WARNING:tensorflow:Can save best model only with val_acc available, skipping.\n",
      "4375/4375 [==============================] - 244s 56ms/step - loss: 0.1156 - acc: 0.9559\n",
      "Epoch 5/5\n",
      "4375/4375 [==============================] - ETA: 0s - loss: 0.0846 - acc: 0.9662WARNING:tensorflow:Can save best model only with val_acc available, skipping.\n",
      "4375/4375 [==============================] - 244s 56ms/step - loss: 0.0846 - acc: 0.9662\n"
     ]
    }
   ],
   "source": [
    "model_embed = embeddingAll(MAX_LENGTH_reivewText,MAX_LENGTH_summary, EMBEDDING_SIZE, NUM_USERS, ROW_COUNT)\n",
    "filepath=\"model_embed.hdf5\"\n",
    "checkpointer = ModelCheckpoint(filepath, monitor='val_acc', verbose=1, save_best_only=True, mode='max')\n",
    "history = model_embed.fit([RRP_x_train[review_emb_schema],RRP_x_train[summary_emb_schema],RRP_x_train['userID']], batch_size=32, y=RRP_y_train.drop('category',axis = 1),  verbose=1, \n",
    "          shuffle=True, epochs=5, callbacks=[checkpointer])"
   ]
  },
  {
   "cell_type": "code",
   "execution_count": 231,
   "metadata": {},
   "outputs": [],
   "source": [
    "# verify mse with best model on validation set\n",
    "prob_embedModel = model.predict([RRP_x_val[review_emb_schema],RRP_x_val[summary_emb_schema],RRP_x_val['userID']])\n",
    "prob_embedModel = np.argmax(prob_embedModel, axis=1)"
   ]
  },
  {
   "cell_type": "code",
   "execution_count": 232,
   "metadata": {},
   "outputs": [
    {
     "data": {
      "text/plain": [
       "0.6987465831055404"
      ]
     },
     "execution_count": 232,
     "metadata": {},
     "output_type": "execute_result"
    }
   ],
   "source": [
    "accuracy_score(RRP_y_val['category'], prob_embedModel)"
   ]
  }
 ],
 "metadata": {
  "kernelspec": {
   "display_name": "Python 3",
   "language": "python",
   "name": "python3"
  },
  "language_info": {
   "codemirror_mode": {
    "name": "ipython",
    "version": 3
   },
   "file_extension": ".py",
   "mimetype": "text/x-python",
   "name": "python",
   "nbconvert_exporter": "python",
   "pygments_lexer": "ipython3",
   "version": "3.8.5"
  }
 },
 "nbformat": 4,
 "nbformat_minor": 4
}
